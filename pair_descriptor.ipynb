{
 "cells": [
  {
   "cell_type": "markdown",
   "metadata": {},
   "source": [
    "This notebook aims to compute the descriptor for combination of two \"center\" atoms"
   ]
  },
  {
   "cell_type": "markdown",
   "metadata": {},
   "source": [
    "# Create a test system"
   ]
  },
  {
   "cell_type": "code",
   "execution_count": 1,
   "metadata": {},
   "outputs": [],
   "source": [
    "import ase\n",
    "import numpy as np\n",
    "atoms = ase.Atoms(\"SSNO\", positions=[[0, 0, 0], [0, 0, 0.1], [0, 0, 1], [0, 0, 2]])\n",
    "frames = [atoms]"
   ]
  },
  {
   "cell_type": "markdown",
   "metadata": {},
   "source": [
    "# Common Hyperparameters"
   ]
  },
  {
   "cell_type": "code",
   "execution_count": 2,
   "metadata": {},
   "outputs": [],
   "source": [
    "r_cut = 4\n",
    "n_max = 12\n",
    "l_max = 6 \n",
    "sigma = 0.3"
   ]
  },
  {
   "cell_type": "code",
   "execution_count": 3,
   "metadata": {},
   "outputs": [],
   "source": [
    "# this is for one frame only for now... (but we can assume a nested list of lists if there are multiple frames)\n",
    "\n",
    "list_S = [1, 2]  # list of all indices we label as \"start\" atom\n",
    "list_M = [2, 3]  # list of all indices we label as \"middle\" atom\n",
    "list_E = [3, 1]  # list of all indices we label as \"end\" atom\n",
    "\n",
    "assert len(list_S) == len(list_M)\n",
    "assert len(list_S) == len(list_E)"
   ]
  },
  {
   "cell_type": "markdown",
   "metadata": {},
   "source": [
    "# `dscribe` descriptor"
   ]
  },
  {
   "cell_type": "code",
   "execution_count": 4,
   "metadata": {},
   "outputs": [
    {
     "ename": "ModuleNotFoundError",
     "evalue": "No module named 'dscribe'",
     "output_type": "error",
     "traceback": [
      "\u001b[0;31m---------------------------------------------------------------------------\u001b[0m",
      "\u001b[0;31mModuleNotFoundError\u001b[0m                       Traceback (most recent call last)",
      "Cell \u001b[0;32mIn [4], line 1\u001b[0m\n\u001b[0;32m----> 1\u001b[0m \u001b[38;5;28;01mfrom\u001b[39;00m \u001b[38;5;21;01mdscribe\u001b[39;00m\u001b[38;5;21;01m.\u001b[39;00m\u001b[38;5;21;01mdescriptors\u001b[39;00m \u001b[38;5;28;01mimport\u001b[39;00m SOAP\n\u001b[1;32m      3\u001b[0m soaper \u001b[38;5;241m=\u001b[39m SOAP(\n\u001b[1;32m      4\u001b[0m     r_cut\u001b[38;5;241m=\u001b[39mr_cut,\n\u001b[1;32m      5\u001b[0m     n_max\u001b[38;5;241m=\u001b[39mn_max,\n\u001b[0;32m   (...)\u001b[0m\n\u001b[1;32m      9\u001b[0m     species\u001b[38;5;241m=\u001b[39m[\u001b[38;5;124m\"\u001b[39m\u001b[38;5;124mS\u001b[39m\u001b[38;5;124m\"\u001b[39m, \u001b[38;5;124m\"\u001b[39m\u001b[38;5;124mO\u001b[39m\u001b[38;5;124m\"\u001b[39m, \u001b[38;5;124m\"\u001b[39m\u001b[38;5;124mN\u001b[39m\u001b[38;5;124m\"\u001b[39m],\n\u001b[1;32m     10\u001b[0m )\n",
      "\u001b[0;31mModuleNotFoundError\u001b[0m: No module named 'dscribe'"
     ]
    }
   ],
   "source": [
    "from dscribe.descriptors import SOAP\n",
    "\n",
    "soaper = SOAP(\n",
    "    r_cut=r_cut,\n",
    "    n_max=n_max,\n",
    "    l_max=l_max,\n",
    "    sigma=sigma,\n",
    "    sparse=False,\n",
    "    species=[\"S\", \"O\", \"N\"],\n",
    ")"
   ]
  },
  {
   "cell_type": "code",
   "execution_count": null,
   "metadata": {},
   "outputs": [],
   "source": [
    "soap_water = soaper.create(frames[0], centers=list_S)"
   ]
  },
  {
   "cell_type": "markdown",
   "metadata": {},
   "source": [
    "# pair descriptor\n",
    "\n",
    "The code for the descriptor calculations is extracted from \n",
    "\n",
    "https://github.com/curiosity54/mlelec"
   ]
  },
  {
   "cell_type": "code",
   "execution_count": 5,
   "metadata": {},
   "outputs": [],
   "source": [
    "from utils.acdc import pair_features"
   ]
  },
  {
   "cell_type": "code",
   "execution_count": 6,
   "metadata": {},
   "outputs": [],
   "source": [
    "hypers = {\n",
    "    \"cutoff\": r_cut,\n",
    "    \"max_radial\": n_max,\n",
    "    \"max_angular\": l_max,\n",
    "    \"atomic_gaussian_width\": sigma,\n",
    "    \"center_atom_weight\": 1,\n",
    "    \"radial_basis\": {\"Gto\": {}},\n",
    "    \"cutoff_function\": {\"ShiftedCosine\": {\"width\": 0.1}},\n",
    "}\n",
    "\n",
    "hypers_pair = {\n",
    "    \"cutoff\": 10, # we can specify a larger cutoff here to find pairs that are much further away than the cutoff \n",
    "                   #used for describing local densities like in SOAP\n",
    "    \"max_radial\": n_max,\n",
    "    \"max_angular\": l_max,\n",
    "    \"atomic_gaussian_width\": sigma,\n",
    "    \"center_atom_weight\": 1,\n",
    "    \"radial_basis\": {\"Gto\": {}},\n",
    "    \"cutoff_function\": {\"ShiftedCosine\": {\"width\": 0.1}},\n",
    "}"
   ]
  },
  {
   "cell_type": "markdown",
   "metadata": {},
   "source": [
    "The pair feature combines a local feature like SOAP ($\\nu=2$) with the expression $\\rho_i^{\\otimes \\nu} \\otimes g_{ij}$. We usually use $\\nu=1$ so that the feature resulting from the tensor product instead has a soap like behavior. \n",
    "One can also create a pair feature of the form $\\rho_i^{\\otimes \\nu} \\otimes g_{ij} \\otimes \\rho_j^{\\otimes \\nu}$, (for $\\nu=1$, this is similar in dimensions to the bispectrum)"
   ]
  },
  {
   "cell_type": "code",
   "execution_count": 17,
   "metadata": {},
   "outputs": [],
   "source": [
    "\n",
    "both_centers = False # whether we computing the pair feature as (rho_i)^\\nu \\otimes g_ij (when False) or (rho_i)^\\nu \\otimes g_ij \\otimes (rho_j)^\\nu (when True)\n",
    "# The latter is more informative as it has local environment info on both atoms but it is also more costly to compute \n",
    "all_pairs=False #when true, this resets the cutoff so that the resulting environment captures all pairs in the system \n",
    "\n",
    "rhoij = pair_features(\n",
    "    frames=frames,\n",
    "    hypers=hypers,\n",
    "    hypers_pair = hypers_pair, #if not specified, hypers are used instead\n",
    "    cg=None,\n",
    "    order_nu=1, # specifies what kind of local densities to combine to create pair features, (i.\n",
    "    both_centers=both_centers,\n",
    "    lcut=0 # so that the resulting features are always scalar (or indexed by spherical_harmonics 0)\n",
    "    # CAUTION: you might want to change this value if computing features with both_centers=True or trying to use these features to learn non-scalar \n",
    "    #properties. A reasonable number is ~3 or 4. \n",
    ")"
   ]
  },
  {
   "cell_type": "markdown",
   "metadata": {},
   "source": [
    "the pair feature returned here has all the possible (and allowed based on cutoffs) pairs in the system. To match how the centers are accessed in the DScribe framework, we create a list of pairs for which we want the pair descriptor"
   ]
  },
  {
   "cell_type": "code",
   "execution_count": 14,
   "metadata": {},
   "outputs": [],
   "source": [
    "# frame_index, i, j\n",
    "list_ij = np.array([[0, atom1, atom2] for atom1,atom2 in zip(list_S, list_E)]) #<<< we are creating pairs between S and E atoms. Please change this if you want to construct SM pairs instead \n",
    "# Change this to a list of [ifr, atom1, atom2] when working with multiple frames"
   ]
  },
  {
   "cell_type": "markdown",
   "metadata": {},
   "source": [
    "The resulting pair descriptor is not a numpy array, instead it is in the Metatensor format (specialized storage format that stores metadata) and organizes features in _blocks_. For each desired pair of atoms, we must look up the block corresponding to the chemical species of the two atoms in the pair. So, below we do a \"preprocessing\" to organize the desired pairs by their species"
   ]
  },
  {
   "cell_type": "code",
   "execution_count": 10,
   "metadata": {},
   "outputs": [],
   "source": [
    "# convert list of indices to list of species\n",
    "species_ij = []\n",
    "for ifr, i, j in list_ij:\n",
    "    atomic_species = frames[ifr].numbers\n",
    "    species_i = atomic_species[i]\n",
    "    species_j = atomic_species[j]\n",
    "\n",
    "    species_ij.append((species_i, species_j))"
   ]
  },
  {
   "cell_type": "code",
   "execution_count": 11,
   "metadata": {},
   "outputs": [],
   "source": [
    "species_ij\n",
    "unique_species_ij, inverse = np.unique(species_ij, return_inverse=True, axis=0)"
   ]
  },
  {
   "cell_type": "code",
   "execution_count": 12,
   "metadata": {},
   "outputs": [],
   "source": [
    "pair_soap_features = []\n",
    "\n",
    "for inverse_index, (species_i, species_j) in enumerate(unique_species_ij):\n",
    "    block = rhoij.block(spherical_harmonics_l=0, inversion_sigma=1, species_center=species_i, species_neighbor=species_j)\n",
    "\n",
    "    values = block.values\n",
    "    sample_values = block.samples.values\n",
    "\n",
    "    mask = inverse == inverse_index\n",
    "    selected_samples = list_ij[mask]\n",
    "\n",
    "    value_indices = np.array([np.where(np.all(sample_values == s, axis=1)) for s in selected_samples])\n",
    "\n",
    "    values_selected = values[value_indices]\n",
    "\n",
    "    pair_soap_features.append(values_selected.numpy().flatten())"
   ]
  },
  {
   "cell_type": "markdown",
   "metadata": {},
   "source": [
    "We now have collected the pair features corresponding to the pairs between the specified atoms. Please be careful in considering the *order* of pairs that the feature correspond to here, and in matching these features to targets. Number of features rows is the same between describe and pair features..."
   ]
  },
  {
   "cell_type": "code",
   "execution_count": 25,
   "metadata": {},
   "outputs": [
    {
     "data": {
      "text/plain": [
       "2"
      ]
     },
     "execution_count": 25,
     "metadata": {},
     "output_type": "execute_result"
    }
   ],
   "source": [
    "len(pair_soap_features)"
   ]
  },
  {
   "cell_type": "code",
   "execution_count": null,
   "metadata": {},
   "outputs": [],
   "source": [
    "len(soap_water)"
   ]
  }
 ],
 "metadata": {
  "kernelspec": {
   "display_name": "Python 3 (ipykernel)",
   "language": "python",
   "name": "python3"
  },
  "language_info": {
   "codemirror_mode": {
    "name": "ipython",
    "version": 3
   },
   "file_extension": ".py",
   "mimetype": "text/x-python",
   "name": "python",
   "nbconvert_exporter": "python",
   "pygments_lexer": "ipython3",
   "version": "3.10.10"
  }
 },
 "nbformat": 4,
 "nbformat_minor": 4
}

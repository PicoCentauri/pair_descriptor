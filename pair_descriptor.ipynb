{
 "cells": [
  {
   "cell_type": "markdown",
   "metadata": {},
   "source": [
    "This notebook aims to compute the descriptor for combination of two \"center\" atoms"
   ]
  },
  {
   "cell_type": "markdown",
   "metadata": {},
   "source": [
    "# Create a test system"
   ]
  },
  {
   "cell_type": "code",
   "execution_count": null,
   "metadata": {},
   "outputs": [],
   "source": [
    "import ase\n",
    "import numpy as np\n",
    "\n",
    "atoms = ase.Atoms(\"SSNO\", positions=[[0, 0, 0], [0, 0, 0.1], [0, 0, 1], [0, 0, 2]])\n",
    "frames = [atoms]"
   ]
  },
  {
   "cell_type": "markdown",
   "metadata": {},
   "source": [
    "# Common Hyperparameters"
   ]
  },
  {
   "cell_type": "code",
   "execution_count": null,
   "metadata": {},
   "outputs": [],
   "source": [
    "r_cut = 4\n",
    "n_max = 12\n",
    "l_max = 6\n",
    "sigma = 0.3"
   ]
  },
  {
   "cell_type": "code",
   "execution_count": null,
   "metadata": {},
   "outputs": [],
   "source": [
    "# this is for one frame only for now... (but we can assume a nested list of lists if\n",
    "# there are multiple frames)\n",
    "\n",
    "list_S = [1, 2]  # list of all indices we label as \"start\" atom\n",
    "list_M = [2, 3]  # list of all indices we label as \"middle\" atom\n",
    "list_E = [3, 1]  # list of all indices we label as \"end\" atom\n",
    "\n",
    "assert len(list_S) == len(list_M)\n",
    "assert len(list_S) == len(list_E)"
   ]
  },
  {
   "cell_type": "markdown",
   "metadata": {},
   "source": [
    "# `dscribe` descriptor\n",
    "\n",
    "For reference we calculate a SOAP descscriptor using the `describe` library."
   ]
  },
  {
   "cell_type": "code",
   "execution_count": null,
   "metadata": {},
   "outputs": [],
   "source": [
    "from dscribe.descriptors import SOAP\n",
    "\n",
    "soaper = SOAP(\n",
    "    r_cut=r_cut,\n",
    "    n_max=n_max,\n",
    "    l_max=l_max,\n",
    "    sigma=sigma,\n",
    "    sparse=False,\n",
    "    species=[\"S\", \"O\", \"N\"],\n",
    ")"
   ]
  },
  {
   "cell_type": "markdown",
   "metadata": {},
   "source": [
    "As `centers` we use our chosen \"start\" atoms."
   ]
  },
  {
   "cell_type": "code",
   "execution_count": null,
   "metadata": {},
   "outputs": [],
   "source": [
    "soap_water = soaper.create(frames[0], centers=list_S)"
   ]
  },
  {
   "cell_type": "markdown",
   "metadata": {},
   "source": [
    "# pair descriptor\n",
    "\n",
    "Now we compute the pair descriptor using the \"start\" and \"end\" atoms as centers.\n",
    "\n",
    "The code for the descriptor calculations is extracted from \n",
    "\n",
    "https://github.com/curiosity54/mlelec\n",
    "\n",
    "And uses [rascaline](https://luthaf.fr/rascaline/latest/index.html) and\n",
    "[metatensor](https://lab-cosmo.github.io/metatensor/latest/index.html) as backend\n",
    "libraries. Take a look at the explanations and how-to's for learning more about the\n",
    "syntax we use below.\n",
    "\n",
    "We start by importing the code from the [utils](utils) folder"
   ]
  },
  {
   "cell_type": "code",
   "execution_count": null,
   "metadata": {},
   "outputs": [],
   "source": [
    "from utils.acdc import pair_features"
   ]
  },
  {
   "cell_type": "code",
   "execution_count": null,
   "metadata": {},
   "outputs": [],
   "source": [
    "hypers = {\n",
    "    \"cutoff\": r_cut,\n",
    "    \"max_radial\": n_max,\n",
    "    \"max_angular\": l_max,\n",
    "    \"atomic_gaussian_width\": sigma,\n",
    "    \"center_atom_weight\": 1,\n",
    "    \"radial_basis\": {\"Gto\": {}},\n",
    "    \"cutoff_function\": {\"ShiftedCosine\": {\"width\": 0.1}},\n",
    "}"
   ]
  },
  {
   "cell_type": "markdown",
   "metadata": {},
   "source": [
    "We can specify a larger cutoff as below to find pairs that are much further away than\n",
    "the cutoff used for describing local densities like in SOAP"
   ]
  },
  {
   "cell_type": "code",
   "execution_count": null,
   "metadata": {},
   "outputs": [],
   "source": [
    "hypers_pair = hypers.copy()\n",
    "hypers_pair[\"cutoff\"] = 10"
   ]
  },
  {
   "cell_type": "markdown",
   "metadata": {},
   "source": [
    "The pair feature combines a local feature like SOAP ($\\nu=2$) with the expression\n",
    "$\\rho_i^{\\otimes \\nu} \\otimes g_{ij}$. We usually use $\\nu=1$ so that the feature\n",
    "resulting from the tensor product instead has a soap like behavior. One can also create\n",
    "a pair feature of the form $\\rho_i^{\\otimes \\nu} \\otimes g_{ij} \\otimes \\rho_j^{\\otimes\n",
    "\\nu}$, (for $\\nu=1$, this is similar in dimensions to the bispectrum)\n",
    "\n",
    "Below we define `both_centers` which defines whether we computing the pair feature as\n",
    "$\\rho_i^\\nu \\otimes g_{ij}$ (when `False`) or $\\rho_i^\\nu \\otimes g_{ij} \\otimes\n",
    "\\rho_j^\\nu$ (when `True`). The latter is more informative as it has local environment\n",
    "info on both atoms but it is also more costly to compute."
   ]
  },
  {
   "cell_type": "code",
   "execution_count": null,
   "metadata": {},
   "outputs": [],
   "source": [
    "both_centers = False"
   ]
  },
  {
   "cell_type": "markdown",
   "metadata": {},
   "source": [
    "if `all_pairs` is `True`, this resets the cutoff so that the resulting environment\n",
    "captures all pairs in the system."
   ]
  },
  {
   "cell_type": "code",
   "execution_count": null,
   "metadata": {},
   "outputs": [],
   "source": [
    "all_pairs = False"
   ]
  },
  {
   "cell_type": "code",
   "execution_count": null,
   "metadata": {},
   "outputs": [],
   "source": [
    "frames"
   ]
  },
  {
   "cell_type": "markdown",
   "metadata": {},
   "source": [
    "We now compute the pair descriptor. Note that if the parameter `hypers_pair` is not given explicitly \n",
    "the value from `hypers` are used instead."
   ]
  },
  {
   "cell_type": "code",
   "execution_count": null,
   "metadata": {},
   "outputs": [],
   "source": [
    "center_indices = list_S\n",
    "neighbor_indices = list_E\n",
    "\n",
    "rhoij_SE = pair_features(\n",
    "    frames=frames,\n",
    "    hypers=hypers,\n",
    "    hypers_pair=hypers_pair,\n",
    "    center_indices=center_indices,\n",
    "    neighbor_indices=neighbor_indices,\n",
    "    cg=None,\n",
    "    order_nu=1,\n",
    "    both_centers=both_centers,\n",
    "    lcut=0,\n",
    ")"
   ]
  },
  {
   "cell_type": "markdown",
   "metadata": {},
   "source": [
    "We can also calculate the pairs for the start and the middle atom"
   ]
  },
  {
   "cell_type": "code",
   "execution_count": null,
   "metadata": {},
   "outputs": [],
   "source": [
    "center_indices = list_S\n",
    "neighbor_indices = list_M\n",
    "\n",
    "rhoij_SM = pair_features(\n",
    "    frames=frames,\n",
    "    hypers=hypers,\n",
    "    hypers_pair=hypers_pair,\n",
    "    center_indices=center_indices,\n",
    "    neighbor_indices=neighbor_indices,\n",
    "    cg=None,\n",
    "    order_nu=1,\n",
    "    both_centers=both_centers,\n",
    "    lcut=0,\n",
    ")"
   ]
  },
  {
   "cell_type": "markdown",
   "metadata": {},
   "source": [
    "`order_nu` specifies what kind of local densities to combine to create pair features.\n",
    "\n",
    "Here we use `lcut` so that the resulting features are always scalar (or indexed by\n",
    "`spherical_harmonics=0`) **CAUTION: you might want to change this value if computing\n",
    "features with `both_centers=True` or trying to use these features to learn non-scalar\n",
    "properties. A reasonable number is $~3$ or $4$.**"
   ]
  },
  {
   "cell_type": "markdown",
   "metadata": {},
   "source": [
    "Now we can use these features straight away in a linear or kernel model"
   ]
  },
  {
   "cell_type": "code",
   "execution_count": null,
   "metadata": {},
   "outputs": [],
   "source": [
    "rhoij_SE[0].values"
   ]
  },
  {
   "cell_type": "code",
   "execution_count": null,
   "metadata": {},
   "outputs": [],
   "source": [
    "rhoij_SE[1].values"
   ]
  },
  {
   "cell_type": "markdown",
   "metadata": {},
   "source": [
    "We could also stack SE values and SM values for the same S. But only if you need."
   ]
  },
  {
   "cell_type": "markdown",
   "metadata": {},
   "source": []
  }
 ],
 "metadata": {
  "kernelspec": {
   "display_name": "Python 3 (ipykernel)",
   "language": "python",
   "name": "python3"
  },
  "language_info": {
   "codemirror_mode": {
    "name": "ipython",
    "version": 3
   },
   "file_extension": ".py",
   "mimetype": "text/x-python",
   "name": "python",
   "nbconvert_exporter": "python",
   "pygments_lexer": "ipython3",
   "version": "3.11.9"
  }
 },
 "nbformat": 4,
 "nbformat_minor": 4
}

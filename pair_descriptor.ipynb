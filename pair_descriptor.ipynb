{
 "cells": [
  {
   "cell_type": "markdown",
   "metadata": {},
   "source": [
    "This notebook aims to compute the descriptor for combination of two \"center\" atoms"
   ]
  },
  {
   "cell_type": "markdown",
   "metadata": {},
   "source": [
    "# Create a test system"
   ]
  },
  {
   "cell_type": "code",
   "execution_count": null,
   "metadata": {},
   "outputs": [],
   "source": [
    "import ase\n",
    "\n",
    "atoms = ase.Atoms(\"SSNO\", positions=[[0, 0, 0], [0, 0, 0.1], [0, 0, 1], [0, 0, 2]])\n",
    "frames = [atoms]"
   ]
  },
  {
   "cell_type": "markdown",
   "metadata": {},
   "source": [
    "# Common Hyperparameters"
   ]
  },
  {
   "cell_type": "code",
   "execution_count": null,
   "metadata": {},
   "outputs": [],
   "source": [
    "r_cut = 2.5\n",
    "n_max = 12\n",
    "l_max = 12\n",
    "sigma = 0.3"
   ]
  },
  {
   "cell_type": "code",
   "execution_count": null,
   "metadata": {},
   "outputs": [],
   "source": [
    "# this is for one frame only for now...\n",
    "\n",
    "list_S = [1, 2]  # list of all indices we label as \"start\" atom\n",
    "list_M = [2, 3]  # list of all indices we label as \"middle\" atom\n",
    "list_E = [3, 1]  # list of all indices we label as \"end\" atom\n",
    "\n",
    "assert len(list_S) == len(list_M)\n",
    "assert len(list_S) == len(list_E)"
   ]
  },
  {
   "cell_type": "markdown",
   "metadata": {},
   "source": [
    "# `dscribe` descriptor"
   ]
  },
  {
   "cell_type": "code",
   "execution_count": null,
   "metadata": {},
   "outputs": [],
   "source": [
    "from dscribe.descriptors import SOAP\n",
    "\n",
    "soaper = SOAP(\n",
    "    r_cut=r_cut,\n",
    "    n_max=n_max,\n",
    "    l_max=l_max,\n",
    "    sigma=sigma,\n",
    "    sparse=False,\n",
    "    species=[\"S\", \"O\", \"N\"],\n",
    ")"
   ]
  },
  {
   "cell_type": "code",
   "execution_count": null,
   "metadata": {},
   "outputs": [],
   "source": [
    "soap_water = soaper.create(frames[0], centers=list_S)"
   ]
  },
  {
   "cell_type": "markdown",
   "metadata": {},
   "source": [
    "# pair descriptor\n",
    "\n",
    "The code for the descriptor calculations is extracted from \n",
    "\n",
    "https://github.com/curiosity54/mlelec"
   ]
  },
  {
   "cell_type": "code",
   "execution_count": null,
   "metadata": {},
   "outputs": [],
   "source": [
    "from utils.acdc import pair_features"
   ]
  },
  {
   "cell_type": "code",
   "execution_count": null,
   "metadata": {},
   "outputs": [],
   "source": [
    "hypers = {\n",
    "    \"cutoff\": r_cut,\n",
    "    \"max_radial\": n_max,\n",
    "    \"max_angular\": l_max,\n",
    "    \"atomic_gaussian_width\": sigma,\n",
    "    \"center_atom_weight\": 1,\n",
    "    \"radial_basis\": {\"Gto\": {}},\n",
    "    \"cutoff_function\": {\"ShiftedCosine\": {\"width\": 0.1}},\n",
    "}"
   ]
  },
  {
   "cell_type": "code",
   "execution_count": null,
   "metadata": {},
   "outputs": [],
   "source": [
    "return_rho0ij = False\n",
    "both_centers = False\n",
    "all_pairs = False\n",
    "\n",
    "rhoij = pair_features(\n",
    "    frames=[atoms],\n",
    "    hypers=hypers,\n",
    "    cg=None,\n",
    "    order_nu=1,\n",
    "    all_pairs=all_pairs,\n",
    "    both_centers=both_centers,\n",
    ")"
   ]
  },
  {
   "cell_type": "code",
   "execution_count": null,
   "metadata": {},
   "outputs": [],
   "source": [
    "# list of center pairs\n",
    "# frame_index, i, j\n",
    "list_ij = np.array([[0, s, e] for s,e in zip(list_S, list_E)])\n"
   ]
  },
  {
   "cell_type": "code",
   "execution_count": null,
   "metadata": {},
   "outputs": [],
   "source": [
    "# convert list of indices to list of species\n",
    "species_ij = []\n",
    "for ifr, i, j in list_ij:\n",
    "    atomic_species = frames[ifr].numbers\n",
    "    species_i = atomic_species[i]\n",
    "    species_j = atomic_species[j]\n",
    "\n",
    "    species_ij.append((species_i, species_j))"
   ]
  },
  {
   "cell_type": "code",
   "execution_count": null,
   "metadata": {},
   "outputs": [],
   "source": [
    "species_ij\n",
    "unique_species_ij, inverse = np.unique(species_ij, return_inverse=True, axis=0)"
   ]
  },
  {
   "cell_type": "code",
   "execution_count": null,
   "metadata": {},
   "outputs": [],
   "source": [
    "pair_soap_features = []\n",
    "\n",
    "for inverse_index, (species_i, species_j) in enumerate(unique_species_ij):\n",
    "    block = rhoij.block(spherical_harmonics_l=0, inversion_sigma=1, species_center=species_i, species_neighbor=species_j)\n",
    "\n",
    "    values = block.values\n",
    "    sample_values = block.samples.values\n",
    "\n",
    "    mask = inverse == inverse_index\n",
    "    selected_samples = list_ij[mask]\n",
    "\n",
    "    value_indices = np.array([np.where(np.all(sample_values == s, axis=1)) for s in selected_samples])\n",
    "\n",
    "    values_selected = values[value_indices]\n",
    "\n",
    "    pair_soap_features.append(values_selected.numpy().flatten())"
   ]
  },
  {
   "cell_type": "markdown",
   "metadata": {},
   "source": [
    "Number of features rows is the same between describe and pair features..."
   ]
  },
  {
   "cell_type": "code",
   "execution_count": null,
   "metadata": {},
   "outputs": [],
   "source": [
    "len(pair_soap_features)"
   ]
  },
  {
   "cell_type": "code",
   "execution_count": null,
   "metadata": {},
   "outputs": [],
   "source": [
    "len(soap_water)"
   ]
  }
 ],
 "metadata": {
  "kernelspec": {
   "display_name": "pair",
   "language": "python",
   "name": "python3"
  },
  "language_info": {
   "codemirror_mode": {
    "name": "ipython",
    "version": 3
   },
   "file_extension": ".py",
   "mimetype": "text/x-python",
   "name": "python",
   "nbconvert_exporter": "python",
   "pygments_lexer": "ipython3",
   "version": "3.11.9"
  }
 },
 "nbformat": 4,
 "nbformat_minor": 2
}
